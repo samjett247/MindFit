{
 "cells": [
  {
   "cell_type": "code",
   "execution_count": null,
   "metadata": {},
   "outputs": [],
   "source": [
    "from twilio.rest import Client\n",
    "# Your Account SID from twilio.com/console\n",
    "account_sid = \"ACbce739c8f483a6c8ed28343e6b2a1d37\"\n",
    "# Your Auth Token from twilio.com/console\n",
    "auth_token  = \"d034aa55e93ae2f34740bb916e24d943\"\n",
    "\n",
    "client = Client(account_sid, auth_token)\n",
    "\n",
    "message = client.messages.create(\n",
    "    to=\"+19728905393\", \n",
    "    from_=\"+19729925293\",\n",
    "    body=\"Your patient has requested your care! Please reach out to them as soon as you can.\")\n",
    "def sendMessage():\n",
    "    print(message.sid)\n",
    "if __name__ == \"__main__\":\n",
    "    sendMessage()"
   ]
  }
 ],
 "metadata": {
  "kernelspec": {
   "display_name": "Python 3",
   "language": "python",
   "name": "python3"
  },
  "language_info": {
   "codemirror_mode": {
    "name": "ipython",
    "version": 3
   },
   "file_extension": ".py",
   "mimetype": "text/x-python",
   "name": "python",
   "nbconvert_exporter": "python",
   "pygments_lexer": "ipython3",
   "version": "3.6.6"
  }
 },
 "nbformat": 4,
 "nbformat_minor": 2
}
